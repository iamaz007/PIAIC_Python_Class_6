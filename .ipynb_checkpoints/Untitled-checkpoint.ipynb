{
 "cells": [
  {
   "cell_type": "code",
   "execution_count": 8,
   "metadata": {},
   "outputs": [
    {
     "name": "stdout",
     "output_type": "stream",
     "text": [
      "Enter radius 5\n",
      "Area 78.5\n",
      "Circumference 31.400000000000002\n"
     ]
    }
   ],
   "source": [
    "# 1\n",
    "class Circle:\n",
    "    r=0\n",
    "    pi=3.14\n",
    "    def __init__(self,ra):\n",
    "        self.r=ra\n",
    "        self.p=3.14\n",
    "        \n",
    "    def area(self):\n",
    "        area='Area '+str(self.p*self.r*self.r)\n",
    "        print(area) \n",
    "    \n",
    "    def circumference(self):\n",
    "        circum='Circumference '+str(2*self.p*self.r)\n",
    "        print(circum) \n",
    "    \n",
    "CircleObj=Circle(int(input('Enter radius ')))\n",
    "CircleObj.area()\n",
    "CircleObj.circumference()"
   ]
  },
  {
   "cell_type": "code",
   "execution_count": 21,
   "metadata": {},
   "outputs": [
    {
     "name": "stdout",
     "output_type": "stream",
     "text": [
      "asd\n",
      "ASD\n"
     ]
    }
   ],
   "source": [
    "# 2\n",
    "class UserString():\n",
    "    def __init__(self):\n",
    "        self.str1 = \"\"\n",
    "\n",
    "    def get_String(self):\n",
    "        self.str1 = input()\n",
    "\n",
    "    def print_String(self):\n",
    "        print(self.str1.upper())\n",
    "\n",
    "string = UserString()\n",
    "string.get_String()\n",
    "string.print_String()"
   ]
  },
  {
   "cell_type": "code",
   "execution_count": null,
   "metadata": {},
   "outputs": [],
   "source": []
  },
  {
   "cell_type": "code",
   "execution_count": null,
   "metadata": {},
   "outputs": [],
   "source": []
  }
 ],
 "metadata": {
  "kernelspec": {
   "display_name": "Python 3",
   "language": "python",
   "name": "python3"
  },
  "language_info": {
   "codemirror_mode": {
    "name": "ipython",
    "version": 3
   },
   "file_extension": ".py",
   "mimetype": "text/x-python",
   "name": "python",
   "nbconvert_exporter": "python",
   "pygments_lexer": "ipython3",
   "version": "3.7.4"
  }
 },
 "nbformat": 4,
 "nbformat_minor": 2
}
